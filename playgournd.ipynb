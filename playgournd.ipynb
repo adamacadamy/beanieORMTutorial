{
 "cells": [
  {
   "cell_type": "code",
   "execution_count": 18,
   "id": "f8dc1075",
   "metadata": {},
   "outputs": [],
   "source": [
    "from datetime import UTC, datetime\n",
    "\n",
    "\n",
    "class UserCls:\n",
    "    username: str  \n",
    "    email: str\n",
    "    age: int  \n",
    "    \n",
    "    def __init__(self, username: str, email: str, age: int):\n",
    "        self.username = username\n",
    "        self.email = email\n",
    "        self.age = age\n",
    " \n",
    "    def update_timestamp(self):\n",
    "        self.updated_at = datetime.now(tz=UTC)\n",
    "\n",
    " "
   ]
  },
  {
   "cell_type": "code",
   "execution_count": null,
   "id": "3878e704",
   "metadata": {},
   "outputs": [
    {
     "data": {
      "text/plain": [
       "['__annotations__',\n",
       " '__class__',\n",
       " '__delattr__',\n",
       " '__dict__',\n",
       " '__dir__',\n",
       " '__doc__',\n",
       " '__eq__',\n",
       " '__format__',\n",
       " '__ge__',\n",
       " '__getattribute__',\n",
       " '__getstate__',\n",
       " '__gt__',\n",
       " '__hash__',\n",
       " '__init__',\n",
       " '__init_subclass__',\n",
       " '__le__',\n",
       " '__lt__',\n",
       " '__module__',\n",
       " '__ne__',\n",
       " '__new__',\n",
       " '__reduce__',\n",
       " '__reduce_ex__',\n",
       " '__repr__',\n",
       " '__setattr__',\n",
       " '__sizeof__',\n",
       " '__str__',\n",
       " '__subclasshook__',\n",
       " '__weakref__',\n",
       " 'age',\n",
       " 'email',\n",
       " 'update_timestamp',\n",
       " 'username']"
      ]
     },
     "metadata": {},
     "output_type": "display_data"
    },
    {
     "data": {
      "text/plain": [
       "'username'"
      ]
     },
     "metadata": {},
     "output_type": "display_data"
    },
    {
     "data": {
      "text/plain": [
       "'awet'"
      ]
     },
     "execution_count": 28,
     "metadata": {},
     "output_type": "execute_result"
    }
   ],
   "source": [
    "user_data = {\n",
    "        \"username\": \"alex_desssveloper\",\n",
    "        \"email\": \"alexs.dev@examples.com\",\n",
    "        \"age\": 22,\n",
    "       \n",
    "    }\n",
    "\n",
    "user = UserCls(**user_data)\n",
    "\n",
    "display(dir(user))\n",
    "dirs = ['__annotations__',\n",
    " '__class__',\n",
    " '__delattr__',\n",
    " '__dict__',\n",
    " '__dir__',\n",
    " '__doc__',\n",
    " '__eq__',\n",
    " '__format__',\n",
    " '__ge__',\n",
    " '__getattribute__',\n",
    " '__getstate__',\n",
    " '__gt__',\n",
    " '__hash__',\n",
    " '__init__',\n",
    " '__init_subclass__',\n",
    " '__le__',\n",
    " '__lt__',\n",
    " '__module__',\n",
    " '__ne__',\n",
    " '__new__',\n",
    " '__reduce__',\n",
    " '__reduce_ex__',\n",
    " '__repr__',\n",
    " '__setattr__',\n",
    " '__sizeof__', \n",
    " '__weakref__',\n",
    " 'age',\n",
    " 'email',\n",
    " 'update_timestamp',\n",
    " 'username']\n",
    "\n",
    "display(dirs[-1])\n",
    "\n",
    "# dir(user) = [], \n",
    "# getattr( user,\"update_timestamp\") => dir(user)... update_timestamp\n",
    "# \n",
    "func_update_timestamp = getattr( user,\"update_timestamp\")\n",
    "\n",
    "func_update_timestamp()\n",
    "\n",
    "user.updated_at\n",
    "\n",
    "username = getattr(user, \"username\")\n",
    "\n",
    "setattr(user, \"username\", \"awet\")\n",
    "username = getattr(user, \"username\")\n",
    "\n",
    "user.username = \"kahse\"\n",
    "username"
   ]
  }
 ],
 "metadata": {
  "kernelspec": {
   "display_name": "beanieORMTutorial",
   "language": "python",
   "name": "python3"
  },
  "language_info": {
   "codemirror_mode": {
    "name": "ipython",
    "version": 3
   },
   "file_extension": ".py",
   "mimetype": "text/x-python",
   "name": "python",
   "nbconvert_exporter": "python",
   "pygments_lexer": "ipython3",
   "version": "3.12.10"
  }
 },
 "nbformat": 4,
 "nbformat_minor": 5
}
